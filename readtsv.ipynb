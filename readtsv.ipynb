{
 "cells": [
  {
   "cell_type": "code",
   "execution_count": 68,
   "metadata": {},
   "outputs": [
    {
     "name": "stdout",
     "output_type": "stream",
     "text": [
      "                               strain            virus    gisaid_epi_isl  \\\n",
      "0  hCoV-19/Australia/QLD0x0140B0/2024  betacoronavirus  EPI_ISL_18979667   \n",
      "1  hCoV-19/Australia/QLD0x01418D/2024  betacoronavirus  EPI_ISL_19009760   \n",
      "2  hCoV-19/Australia/QLD0x014092/2024  betacoronavirus  EPI_ISL_18979706   \n",
      "3  hCoV-19/Australia/QLD0x01410E/2024  betacoronavirus  EPI_ISL_18979645   \n",
      "4    hCoV-19/Australia/TAS006878/2024  betacoronavirus  EPI_ISL_18967246   \n",
      "\n",
      "  genbank_accession        date   region    country    division location  \\\n",
      "0                 ?  2024-02-08  Oceania  Australia  Queensland      NaN   \n",
      "1                 ?  2024-03-12  Oceania  Australia  Queensland      NaN   \n",
      "2                 ?  2024-02-05  Oceania  Australia  Queensland      NaN   \n",
      "3                 ?  2024-02-05  Oceania  Australia  Queensland      NaN   \n",
      "4                 ?  2024-02-01  Oceania  Australia    Tasmania      NaN   \n",
      "\n",
      "  region_exposure  ... pangolin_lineage GISAID_clade  \\\n",
      "0         Oceania  ...          JN.1.35          GRA   \n",
      "1         Oceania  ...          JN.1.32          GRA   \n",
      "2         Oceania  ...           JN.1.4          GRA   \n",
      "3         Oceania  ...             JN.1          GRA   \n",
      "4         Oceania  ...           JN.1.5          GRA   \n",
      "\n",
      "                                     originating_lab  \\\n",
      "0  Public Health Virology, Forensic and Scientifi...   \n",
      "1  Public Health Virology, Forensic and Scientifi...   \n",
      "2                      Sullivan Nicolaides Pathology   \n",
      "3                   Forensic and Scientific Services   \n",
      "4                              Royal Hobart Hospital   \n",
      "\n",
      "                                      submitting_lab  \\\n",
      "0  Public Health Virology, Forensic and Scientifi...   \n",
      "1  Public Health Virology, Forensic and Scientifi...   \n",
      "2  Public Health Virology - Forensic and Scientif...   \n",
      "3  Public Health Virology - Forensic and Scientif...   \n",
      "4                              Royal Hobart Hospital   \n",
      "\n",
      "                                             authors                      url  \\\n",
      "0         Chenwei Wang on behalf of Q-PHIRE Genomics  https://www.gisaid.org/   \n",
      "1           Son Nguyen on behalf of Q-PHIRE Genomics  https://www.gisaid.org/   \n",
      "2         Chenwei Wang on behalf of Q-PHIRE Genomics  https://www.gisaid.org/   \n",
      "3         Chenwei Wang on behalf of Q-PHIRE Genomics  https://www.gisaid.org/   \n",
      "4  J Williamson, R Vanhaeften, J Maskell, C Atkin...  https://www.gisaid.org/   \n",
      "\n",
      "  title paper_url date_submitted purpose_of_sequencing  \n",
      "0     ?         ?     2024-03-13                     ?  \n",
      "1     ?         ?     2024-03-26                     ?  \n",
      "2     ?         ?     2024-03-13                     ?  \n",
      "3     ?         ?     2024-03-13                     ?  \n",
      "4     ?         ?     2024-03-08                     ?  \n",
      "\n",
      "[5 rows x 28 columns]\n"
     ]
    }
   ],
   "source": [
    "import pandas as pd\n",
    "\n",
    "# Replace 'file_path.tsv' with the actual path to your TSV file\n",
    "file_path = 'raw_data/1718053372032.metadata.tsv'\n",
    "\n",
    "# Read the TSV file\n",
    "rawdata = pd.read_csv(file_path, sep='\\t')\n",
    "\n",
    "# Display the first few rows of the dataframe\n",
    "print(rawdata.head())\n"
   ]
  },
  {
   "cell_type": "code",
   "execution_count": 69,
   "metadata": {},
   "outputs": [
    {
     "name": "stdout",
     "output_type": "stream",
     "text": [
      "                               strain            virus    gisaid_epi_isl  \\\n",
      "0  hCoV-19/Australia/QLD0x0140B0/2024  betacoronavirus  EPI_ISL_18979667   \n",
      "1  hCoV-19/Australia/QLD0x01418D/2024  betacoronavirus  EPI_ISL_19009760   \n",
      "2  hCoV-19/Australia/QLD0x014092/2024  betacoronavirus  EPI_ISL_18979706   \n",
      "3  hCoV-19/Australia/QLD0x01410E/2024  betacoronavirus  EPI_ISL_18979645   \n",
      "4    hCoV-19/Australia/TAS006878/2024  betacoronavirus  EPI_ISL_18967246   \n",
      "\n",
      "        date    division location region_exposure country_exposure  \\\n",
      "0 2024-02-08  Queensland      NaN         Oceania        Australia   \n",
      "1 2024-03-12  Queensland      NaN         Oceania        Australia   \n",
      "2 2024-02-05  Queensland      NaN         Oceania        Australia   \n",
      "3 2024-02-05  Queensland      NaN         Oceania        Australia   \n",
      "4 2024-02-01    Tasmania      NaN         Oceania        Australia   \n",
      "\n",
      "  division_exposure segment  length  age   sex  \\\n",
      "0        Queensland  genome   29717  NaN  <NA>   \n",
      "1        Queensland  genome   29717  NaN  <NA>   \n",
      "2        Queensland  genome   29717  NaN  <NA>   \n",
      "3        Queensland  genome   29619  NaN  <NA>   \n",
      "4          Tasmania  genome   29746  NaN  <NA>   \n",
      "\n",
      "                                     originating_lab  \\\n",
      "0  Public Health Virology, Forensic and Scientifi...   \n",
      "1  Public Health Virology, Forensic and Scientifi...   \n",
      "2                      Sullivan Nicolaides Pathology   \n",
      "3                   Forensic and Scientific Services   \n",
      "4                              Royal Hobart Hospital   \n",
      "\n",
      "                                      submitting_lab date_submitted  \n",
      "0  Public Health Virology, Forensic and Scientifi...     2024-03-13  \n",
      "1  Public Health Virology, Forensic and Scientifi...     2024-03-26  \n",
      "2  Public Health Virology - Forensic and Scientif...     2024-03-13  \n",
      "3  Public Health Virology - Forensic and Scientif...     2024-03-13  \n",
      "4                              Royal Hobart Hospital     2024-03-08  \n"
     ]
    }
   ],
   "source": [
    "data = rawdata\n",
    "\n",
    "def covid_tests_data_cleaning(data):\n",
    "    # Filter\n",
    "    data = data[(data['region'] == 'Oceania') & (data['country'] == 'Australia')]\n",
    "    data = data[data['host'] == 'Human']\n",
    "    data[['age', 'sex']] = data[['age', 'sex']].replace('unknown', pd.NA)\n",
    "\n",
    "    # List of columns to keep\n",
    "    columns_to_keep = [\n",
    "        # virus\n",
    "        'strain', 'virus', 'segment', 'length', 'gisaid_epi_isl', 'date', \n",
    "        # location\n",
    "        'division', 'location', \n",
    "        # exposure\n",
    "        'region_exposure', 'country_exposure', 'division_exposure',\n",
    "        # patient \n",
    "        'age', 'sex', \n",
    "        # submission\n",
    "        'originating_lab', 'submitting_lab', 'date_submitted'\n",
    "    ]\n",
    "\n",
    "    # Keep only the specified columns\n",
    "    data = data.loc[:, columns_to_keep]\n",
    "\n",
    "    # Change data type\n",
    "    data['date'] = pd.to_datetime(data['date'])\n",
    "    data['date_submitted'] = pd.to_datetime(data['date_submitted'])\n",
    "    data['age'] = pd.to_numeric(data['age'], errors='coerce')\n",
    "\n",
    "\n",
    "    return data\n",
    "\n",
    "data = covid_tests_data_cleaning(data)\n",
    "\n",
    "# Display the first few rows of the filtered dataframe\n",
    "print(data.head())"
   ]
  },
  {
   "cell_type": "code",
   "execution_count": 86,
   "metadata": {},
   "outputs": [
    {
     "name": "stdout",
     "output_type": "stream",
     "text": [
      "                                  strain            virus segment  length  \\\n",
      "0         hCoV-19/Australia/ACT0922/2021  betacoronavirus  genome   29752   \n",
      "1         hCoV-19/Australia/ACT0896/2021  betacoronavirus  genome   29752   \n",
      "2  hCoV-19/Australia/NSW-ICPMR-8097/2021  betacoronavirus  genome   29378   \n",
      "3         hCoV-19/Australia/ACT0793/2021  betacoronavirus  genome   29752   \n",
      "4         hCoV-19/Australia/ACT0807/2021  betacoronavirus  genome   29752   \n",
      "\n",
      "    gisaid_epi_isl       date                      division location  \\\n",
      "0  EPI_ISL_4636733 2021-09-28  Australian Capital Territory      NaN   \n",
      "1  EPI_ISL_4636712 2021-09-27  Australian Capital Territory      NaN   \n",
      "2  EPI_ISL_4552404 2021-09-13               New South Wales   Sydney   \n",
      "3  EPI_ISL_4636623 2021-09-23  Australian Capital Territory      NaN   \n",
      "4  EPI_ISL_4636635 2021-09-23  Australian Capital Territory      NaN   \n",
      "\n",
      "  region_exposure country_exposure             division_exposure  age   sex  \\\n",
      "0         Oceania        Australia  Australian Capital Territory  NaN  <NA>   \n",
      "1         Oceania        Australia  Australian Capital Territory  NaN  <NA>   \n",
      "2         Oceania        Australia               New South Wales  NaN  <NA>   \n",
      "3         Oceania        Australia  Australian Capital Territory  NaN  <NA>   \n",
      "4         Oceania        Australia  Australian Capital Territory  NaN  <NA>   \n",
      "\n",
      "                                     originating_lab  \\\n",
      "0                                      ACT Pathology   \n",
      "1                                      ACT Pathology   \n",
      "2  Australian Clinical Labs (formerly Healthscope...   \n",
      "3                                      ACT Pathology   \n",
      "4                                      ACT Pathology   \n",
      "\n",
      "                                      submitting_lab date_submitted  \n",
      "0                                   Schwessinger Lab     2021-10-01  \n",
      "1                                   Schwessinger Lab     2021-10-01  \n",
      "2  NSW Health Pathology - Institute of Clinical P...     2021-09-28  \n",
      "3                                   Schwessinger Lab     2021-10-01  \n",
      "4                                   Schwessinger Lab     2021-10-01  \n"
     ]
    }
   ],
   "source": [
    "# Read All tsv files\n",
    "def covid_tests_data_cleaning(data):\n",
    "    # Filter\n",
    "    data = data[(data['region'] == 'Oceania') & (data['country'] == 'Australia')]\n",
    "    data = data[data['host'] == 'Human']\n",
    "    data[['age', 'sex']] = data[['age', 'sex']].replace('unknown', pd.NA)\n",
    "\n",
    "    # List of columns to keep\n",
    "    columns_to_keep = [\n",
    "        # virus\n",
    "        'strain', 'virus', 'segment', 'length', 'gisaid_epi_isl', 'date', \n",
    "        # location\n",
    "        'division', 'location', \n",
    "        # exposure\n",
    "        'region_exposure', 'country_exposure', 'division_exposure',\n",
    "        # patient \n",
    "        'age', 'sex', \n",
    "        # submission\n",
    "        'originating_lab', 'submitting_lab', 'date_submitted'\n",
    "    ]\n",
    "\n",
    "    # Keep only the specified columns\n",
    "    data = data.loc[:, columns_to_keep]\n",
    "\n",
    "    # Change data type\n",
    "    \n",
    "    # Convert to datetime using the specified formats\n",
    "    def parse_dates(date_series):\n",
    "        date_formats = [\"%d/%m/%Y\", \"%Y-%m-%d\"]\n",
    "        for fmt in date_formats:\n",
    "            parsed_dates = pd.to_datetime(date_series, format=fmt, errors='coerce')\n",
    "            if parsed_dates.notna().all():\n",
    "                return parsed_dates\n",
    "        return pd.to_datetime(date_series, errors='coerce') \n",
    "    \n",
    "    data['date'] = parse_dates(data['date'])\n",
    "    data = data.dropna(subset=['date'])\n",
    "    data['date_submitted'] = parse_dates(data['date_submitted'])\n",
    "    \n",
    "    data['age'] = pd.to_numeric(data['age'], errors='coerce')\n",
    "\n",
    "\n",
    "    return data\n",
    "\n",
    "import os\n",
    "\n",
    "# Define the directory containing the TSV files\n",
    "dir_path = 'raw_data'\n",
    "\n",
    "# Initialize an empty list to hold the DataFrames\n",
    "dataframes = []\n",
    "\n",
    "# Loop through all files in the directory\n",
    "for file_name in os.listdir(dir_path):\n",
    "    # Check if the file is a TSV file\n",
    "    if file_name.endswith('.tsv'):\n",
    "        # Read the TSV file into a DataFrame\n",
    "        file_path = os.path.join(dir_path, file_name)\n",
    "        df = pd.read_csv(file_path, sep='\\t')\n",
    "        # Append the DataFrame to the list\n",
    "        try:\n",
    "            dataframes.append(covid_tests_data_cleaning(df))\n",
    "        except Exception as e:\n",
    "            print(f\"Error in loading {file_name}\\n{e}\")\n",
    "\n",
    "data = pd.concat(dataframes, ignore_index=True)\n",
    "\n",
    "# Display the first few rows of the filtered dataframe\n",
    "print(data.head())"
   ]
  },
  {
   "cell_type": "code",
   "execution_count": 88,
   "metadata": {},
   "outputs": [
    {
     "name": "stdout",
     "output_type": "stream",
     "text": [
      "(233848, 16)\n"
     ]
    }
   ],
   "source": [
    "print(data.shape)"
   ]
  },
  {
   "cell_type": "code",
   "execution_count": 87,
   "metadata": {},
   "outputs": [
    {
     "name": "stdout",
     "output_type": "stream",
     "text": [
      "strain                    0\n",
      "virus                     0\n",
      "segment                   0\n",
      "length                    0\n",
      "gisaid_epi_isl            0\n",
      "date                      0\n",
      "division                  7\n",
      "location             167273\n",
      "region_exposure           0\n",
      "country_exposure          0\n",
      "division_exposure         7\n",
      "age                  155677\n",
      "sex                  143008\n",
      "originating_lab         128\n",
      "submitting_lab            0\n",
      "date_submitted            0\n",
      "dtype: int64\n"
     ]
    }
   ],
   "source": [
    "# Assuming 'data' is your DataFrame\n",
    "na_counts = data.isna().sum()\n",
    "\n",
    "print(na_counts)"
   ]
  },
  {
   "cell_type": "code",
   "execution_count": 81,
   "metadata": {},
   "outputs": [
    {
     "name": "stdout",
     "output_type": "stream",
     "text": [
      "'gisaid_epi_isl' is a unique key.\n"
     ]
    }
   ],
   "source": [
    "\n",
    "# Check if 'gisaid_epi_isl' is a unique key\n",
    "is_unique_key = data['gisaid_epi_isl'].nunique() == len(data)\n",
    "\n",
    "if is_unique_key:\n",
    "    print(\"'gisaid_epi_isl' is a unique key.\")\n",
    "else:\n",
    "    print(\"'gisaid_epi_isl' is not a unique key.\")"
   ]
  },
  {
   "cell_type": "code",
   "execution_count": 82,
   "metadata": {},
   "outputs": [
    {
     "name": "stdout",
     "output_type": "stream",
     "text": [
      "strain\n",
      "virus\n",
      "segment\n",
      "length\n",
      "gisaid_epi_isl\n",
      "date\n",
      "division\n",
      "location\n",
      "region_exposure\n",
      "country_exposure\n",
      "division_exposure\n",
      "age\n",
      "sex\n",
      "originating_lab\n",
      "submitting_lab\n",
      "date_submitted\n"
     ]
    }
   ],
   "source": [
    "\n",
    "# Display the first few rows of the dataframe\n",
    "print(*data.columns, sep='\\n')\n"
   ]
  },
  {
   "cell_type": "code",
   "execution_count": null,
   "metadata": {},
   "outputs": [],
   "source": []
  },
  {
   "cell_type": "code",
   "execution_count": null,
   "metadata": {},
   "outputs": [],
   "source": []
  }
 ],
 "metadata": {
  "kernelspec": {
   "display_name": "env",
   "language": "python",
   "name": "python3"
  },
  "language_info": {
   "codemirror_mode": {
    "name": "ipython",
    "version": 3
   },
   "file_extension": ".py",
   "mimetype": "text/x-python",
   "name": "python",
   "nbconvert_exporter": "python",
   "pygments_lexer": "ipython3",
   "version": "3.10.12"
  }
 },
 "nbformat": 4,
 "nbformat_minor": 2
}
