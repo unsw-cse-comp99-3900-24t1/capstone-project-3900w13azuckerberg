{
 "cells": [
  {
   "cell_type": "code",
   "execution_count": 1,
   "metadata": {},
   "outputs": [
    {
     "name": "stdout",
     "output_type": "stream",
     "text": [
      "                               strain            virus    gisaid_epi_isl  \\\n",
      "0  hCoV-19/Australia/QLD0x0140B0/2024  betacoronavirus  EPI_ISL_18979667   \n",
      "1  hCoV-19/Australia/QLD0x01418D/2024  betacoronavirus  EPI_ISL_19009760   \n",
      "2  hCoV-19/Australia/QLD0x014092/2024  betacoronavirus  EPI_ISL_18979706   \n",
      "3  hCoV-19/Australia/QLD0x01410E/2024  betacoronavirus  EPI_ISL_18979645   \n",
      "4    hCoV-19/Australia/TAS006878/2024  betacoronavirus  EPI_ISL_18967246   \n",
      "\n",
      "  genbank_accession        date   region    country    division location  \\\n",
      "0                 ?  2024-02-08  Oceania  Australia  Queensland      NaN   \n",
      "1                 ?  2024-03-12  Oceania  Australia  Queensland      NaN   \n",
      "2                 ?  2024-02-05  Oceania  Australia  Queensland      NaN   \n",
      "3                 ?  2024-02-05  Oceania  Australia  Queensland      NaN   \n",
      "4                 ?  2024-02-01  Oceania  Australia    Tasmania      NaN   \n",
      "\n",
      "  region_exposure  ... pangolin_lineage GISAID_clade  \\\n",
      "0         Oceania  ...          JN.1.35          GRA   \n",
      "1         Oceania  ...          JN.1.32          GRA   \n",
      "2         Oceania  ...           JN.1.4          GRA   \n",
      "3         Oceania  ...             JN.1          GRA   \n",
      "4         Oceania  ...           JN.1.5          GRA   \n",
      "\n",
      "                                     originating_lab  \\\n",
      "0  Public Health Virology, Forensic and Scientifi...   \n",
      "1  Public Health Virology, Forensic and Scientifi...   \n",
      "2                      Sullivan Nicolaides Pathology   \n",
      "3                   Forensic and Scientific Services   \n",
      "4                              Royal Hobart Hospital   \n",
      "\n",
      "                                      submitting_lab  \\\n",
      "0  Public Health Virology, Forensic and Scientifi...   \n",
      "1  Public Health Virology, Forensic and Scientifi...   \n",
      "2  Public Health Virology - Forensic and Scientif...   \n",
      "3  Public Health Virology - Forensic and Scientif...   \n",
      "4                              Royal Hobart Hospital   \n",
      "\n",
      "                                             authors                      url  \\\n",
      "0         Chenwei Wang on behalf of Q-PHIRE Genomics  https://www.gisaid.org/   \n",
      "1           Son Nguyen on behalf of Q-PHIRE Genomics  https://www.gisaid.org/   \n",
      "2         Chenwei Wang on behalf of Q-PHIRE Genomics  https://www.gisaid.org/   \n",
      "3         Chenwei Wang on behalf of Q-PHIRE Genomics  https://www.gisaid.org/   \n",
      "4  J Williamson, R Vanhaeften, J Maskell, C Atkin...  https://www.gisaid.org/   \n",
      "\n",
      "  title paper_url date_submitted purpose_of_sequencing  \n",
      "0     ?         ?     2024-03-13                     ?  \n",
      "1     ?         ?     2024-03-26                     ?  \n",
      "2     ?         ?     2024-03-13                     ?  \n",
      "3     ?         ?     2024-03-13                     ?  \n",
      "4     ?         ?     2024-03-08                     ?  \n",
      "\n",
      "[5 rows x 28 columns]\n"
     ]
    }
   ],
   "source": [
    "import pandas as pd\n",
    "\n",
    "# Replace 'file_path.tsv' with the actual path to your TSV file\n",
    "file_path = 'raw_data/1718053372032.metadata.tsv'\n",
    "\n",
    "# Read the TSV file\n",
    "rawdata = pd.read_csv(file_path, sep='\\t')\n",
    "\n",
    "# Display the first few rows of the dataframe\n",
    "print(rawdata.head())\n"
   ]
  },
  {
   "cell_type": "code",
   "execution_count": 3,
   "metadata": {},
   "outputs": [
    {
     "data": {
      "text/plain": [
       "array(['JN.1.35', 'JN.1.32', 'JN.1.4', 'JN.1', 'JN.1.5', 'KW.1',\n",
       "       'XBC.1.3', 'JN.2', 'JN.1.1', 'JN.1.32.1', 'XDQ', 'JN.1.20',\n",
       "       'JN.1.4.5', 'JN.1.11.1', 'JN.1.8', 'JN.1.22', 'JN.1.3',\n",
       "       'JN.1.28.1', 'KW.1.1', 'JN.1.29', 'JN.1.30.1', 'JN.1.18',\n",
       "       'JN.1.19', 'JN.1.4.7', 'JN.1.39', 'KW.1.2', 'JN.1.16', 'BA.2.86',\n",
       "       'JN.1.1.6', 'JN.18', 'JN.1.6', 'KV.1', 'JN.1.4.6', 'JN.14',\n",
       "       'JN.1.28', 'JN.1.51', 'JN.1.56', 'JN.1.11', 'JN.1.31', 'LE.2',\n",
       "       'KP.1', 'HK.3.2', 'HK.3', 'XDD', 'JG.3', 'KP.2', 'JN.1.16.2',\n",
       "       'XBB.1.16.6', 'JN.2.1', 'JD.1.1', 'XDK.1', 'LJ.1', 'FL.1.5.2',\n",
       "       'JN.1.48', 'JN.1.51.1', 'JN.1.47', 'XDK', 'JN.1.52', 'BA.2.86.1',\n",
       "       'JN.1.43', 'JN.1.17', 'JN.1.10', 'EG.5.1.8', 'HV.1', 'JE.1.1',\n",
       "       'HK.1', 'KP.4.1', 'JN.1.7', 'JN.1.8.1', 'KU.1', 'JN.1.37',\n",
       "       'JN.1.9', 'BA.2.86.3', 'KU.2', 'XDR', 'JN.1.36', 'JN.1.45',\n",
       "       'JN.1.4.3', 'JN.1.43.1', 'JN.1.23', 'KV.2', 'EG.5.1.1', 'JN.1.34',\n",
       "       'JN.1.4.1', 'JN.1.49', 'EG.5.1.6', 'KP.1.1', 'JN.1.16.1',\n",
       "       'JN.1.7.2', 'XBB.1.5.20', 'JN.1.55', 'JN.1.1.5', 'LA.1', 'KP.3',\n",
       "       'KZ.1.1.1', 'JN.1.48.1', 'JN.1.18.2', 'KP.1.1.1', 'KS.1',\n",
       "       'JN.1.42', 'JN.1.21', 'JN.1.8.3', 'JD.1.1.1', 'XDV.1', 'JN.1.15',\n",
       "       'JN.1.1.1', 'XDQ.1', 'JN.1.9.1', 'XCH.1', 'XDN', 'BA.2', 'FY.5',\n",
       "       'JN.1.55.1', 'KR.1', 'JN.1.41', 'JN.1.33', 'KP.2.3', 'KP.2.1',\n",
       "       'KZ.1.1', 'LA.2', 'JN.1.6.1', 'KP.1.2', 'JN.1.2', 'LB.1', 'KP.2.2',\n",
       "       'JN.1.13.1', 'JN.1.4.4', 'JQ.2.1', 'XDP.1', 'XDP', 'KP.4.2',\n",
       "       'JN.1.40', 'KP.3.2', 'KP.2.8', 'KP.3.1', 'LF.1', 'KP.3.3',\n",
       "       'JN.1.1.8', 'KP.2.9', 'KP.2.4', 'KP.2.12', 'KP.2.10', 'KW.1.1.1',\n",
       "       'JN.1.9.2', 'LG.1', 'JN.1.13', 'JN.1.30', 'KP.1.1.3', 'JN.1.44',\n",
       "       'JN.1.18.3'], dtype=object)"
      ]
     },
     "execution_count": 3,
     "metadata": {},
     "output_type": "execute_result"
    }
   ],
   "source": [
    "distinct_values = rawdata['pangolin_lineage'].unique()\n",
    "distinct_values"
   ]
  },
  {
   "cell_type": "code",
   "execution_count": 27,
   "metadata": {},
   "outputs": [
    {
     "name": "stdout",
     "output_type": "stream",
     "text": [
      "   lineage        id       date    division location region_exposure  \\\n",
      "0  JN.1.35  18979667 2024-02-08  Queensland      NaN         Oceania   \n",
      "1  JN.1.32  19009760 2024-03-12  Queensland      NaN         Oceania   \n",
      "2   JN.1.4  18979706 2024-02-05  Queensland      NaN         Oceania   \n",
      "3     JN.1  18979645 2024-02-05  Queensland      NaN         Oceania   \n",
      "4   JN.1.5  18967246 2024-02-01    Tasmania      NaN         Oceania   \n",
      "\n",
      "  country_exposure division_exposure  age   sex  \\\n",
      "0        Australia        Queensland  NaN  <NA>   \n",
      "1        Australia        Queensland  NaN  <NA>   \n",
      "2        Australia        Queensland  NaN  <NA>   \n",
      "3        Australia        Queensland  NaN  <NA>   \n",
      "4        Australia          Tasmania  NaN  <NA>   \n",
      "\n",
      "                                     originating_lab  \\\n",
      "0  Public Health Virology, Forensic and Scientifi...   \n",
      "1  Public Health Virology, Forensic and Scientifi...   \n",
      "2                      Sullivan Nicolaides Pathology   \n",
      "3                   Forensic and Scientific Services   \n",
      "4                              Royal Hobart Hospital   \n",
      "\n",
      "                                      submitting_lab date_submitted strain  \n",
      "0  Public Health Virology, Forensic and Scientifi...     2024-03-13   JN.1  \n",
      "1  Public Health Virology, Forensic and Scientifi...     2024-03-26   JN.1  \n",
      "2  Public Health Virology - Forensic and Scientif...     2024-03-13   JN.1  \n",
      "3  Public Health Virology - Forensic and Scientif...     2024-03-13   JN.1  \n",
      "4                              Royal Hobart Hospital     2024-03-08   JN.1  \n"
     ]
    }
   ],
   "source": [
    "data = rawdata\n",
    "\n",
    "def covid_tests_data_cleaning(data):\n",
    "    # Filter\n",
    "    data = data[(data['region'] == 'Oceania') & (data['country'] == 'Australia')]\n",
    "    data = data[data['host'] == 'Human']\n",
    "    data[['age', 'sex']] = data[['age', 'sex']].replace('unknown', pd.NA)\n",
    "    \n",
    "    # Renaming columns\n",
    "    data.rename(columns={'pangolin_lineage': 'lineage'}, inplace=True)\n",
    "    data.rename(columns={'gisaid_epi_isl': 'id'}, inplace=True)\n",
    "\n",
    "    # List of columns to keep\n",
    "    columns_to_keep = [\n",
    "        # virus\n",
    "        'lineage', 'id', 'date', \n",
    "        # location\n",
    "        'division', 'location', \n",
    "        # exposure\n",
    "        'region_exposure', 'country_exposure', 'division_exposure',\n",
    "        # patient \n",
    "        'age', 'sex', \n",
    "        # submission\n",
    "        'originating_lab', 'submitting_lab', 'date_submitted'\n",
    "    ]\n",
    "\n",
    "    # Keep only the specified columns\n",
    "    data = data.loc[:, columns_to_keep]\n",
    "    \n",
    "    # Function to extract substring before the second '.'\n",
    "    def extract_lineage_prefix(s):\n",
    "        parts = s.split('.')\n",
    "        if len(parts) > 2:\n",
    "            return '.'.join(parts[:2])\n",
    "        return s\n",
    "\n",
    "    # Apply the function to the pangolin_lineage column\n",
    "    data['strain'] = data['lineage'].apply(extract_lineage_prefix)\n",
    "    \n",
    "    def extract_id(s):\n",
    "        return s.split('_')[-1]\n",
    "\n",
    "    # Apply the function to the gisaid_epi_isl column\n",
    "    data['id'] = data['id'].apply(extract_id)\n",
    "\n",
    "    # Change data type\n",
    "    \n",
    "    # Convert to datetime using the specified formats\n",
    "    def parse_dates(date_series):\n",
    "        date_formats = [\"%d/%m/%Y\", \"%Y-%m-%d\"]\n",
    "        for fmt in date_formats:\n",
    "            parsed_dates = pd.to_datetime(date_series, format=fmt, errors='coerce')\n",
    "            if parsed_dates.notna().all():\n",
    "                return parsed_dates\n",
    "        return pd.to_datetime(date_series, errors='coerce') \n",
    "    \n",
    "    data['date'] = parse_dates(data['date'])\n",
    "    data = data.dropna(subset=['date'])\n",
    "    data['date_submitted'] = parse_dates(data['date_submitted'])\n",
    "    \n",
    "    data['age'] = pd.to_numeric(data['age'], errors='coerce')\n",
    "\n",
    "\n",
    "    return data\n",
    "\n",
    "data = covid_tests_data_cleaning(data)\n",
    "\n",
    "# Display the first few rows of the filtered dataframe\n",
    "print(data.head())"
   ]
  },
  {
   "cell_type": "code",
   "execution_count": 14,
   "metadata": {},
   "outputs": [
    {
     "data": {
      "text/plain": [
       "True"
      ]
     },
     "execution_count": 14,
     "metadata": {},
     "output_type": "execute_result"
    }
   ],
   "source": [
    "data['id'].is_unique"
   ]
  },
  {
   "cell_type": "code",
   "execution_count": 15,
   "metadata": {},
   "outputs": [
    {
     "data": {
      "text/plain": [
       "array(['JN.1', 'KW.1', 'XBC.1', 'JN.2', 'XDQ', 'BA.2', 'JN.18', 'KV.1',\n",
       "       'JN.14', 'LE.2', 'KP.1', 'HK.3', 'XDD', 'JG.3', 'KP.2', 'XBB.1',\n",
       "       'JD.1', 'XDK.1', 'LJ.1', 'FL.1', 'XDK', 'EG.5', 'HV.1', 'JE.1',\n",
       "       'HK.1', 'KP.4', 'KU.1', 'KU.2', 'XDR', 'KV.2', 'LA.1', 'KP.3',\n",
       "       'KZ.1', 'KS.1', 'XDV.1', 'XDQ.1', 'XCH.1', 'XDN', 'FY.5', 'KR.1',\n",
       "       'LA.2', 'LB.1', 'JQ.2', 'XDP.1', 'XDP', 'LF.1', 'LG.1'],\n",
       "      dtype=object)"
      ]
     },
     "execution_count": 15,
     "metadata": {},
     "output_type": "execute_result"
    }
   ],
   "source": [
    "data['strain'].unique()"
   ]
  },
  {
   "cell_type": "code",
   "execution_count": 28,
   "metadata": {},
   "outputs": [
    {
     "name": "stdout",
     "output_type": "stream",
     "text": [
      "     lineage       id       date                      division location  \\\n",
      "0  AY.39.1.3  4636733 2021-09-28  Australian Capital Territory      NaN   \n",
      "1  AY.39.1.2  4636712 2021-09-27  Australian Capital Territory      NaN   \n",
      "2    AY.39.1  4552404 2021-09-13               New South Wales   Sydney   \n",
      "3  AY.39.1.2  4636623 2021-09-23  Australian Capital Territory      NaN   \n",
      "4  AY.39.1.2  4636635 2021-09-23  Australian Capital Territory      NaN   \n",
      "\n",
      "  region_exposure country_exposure             division_exposure  age   sex  \\\n",
      "0         Oceania        Australia  Australian Capital Territory  NaN  <NA>   \n",
      "1         Oceania        Australia  Australian Capital Territory  NaN  <NA>   \n",
      "2         Oceania        Australia               New South Wales  NaN  <NA>   \n",
      "3         Oceania        Australia  Australian Capital Territory  NaN  <NA>   \n",
      "4         Oceania        Australia  Australian Capital Territory  NaN  <NA>   \n",
      "\n",
      "                                     originating_lab  \\\n",
      "0                                      ACT Pathology   \n",
      "1                                      ACT Pathology   \n",
      "2  Australian Clinical Labs (formerly Healthscope...   \n",
      "3                                      ACT Pathology   \n",
      "4                                      ACT Pathology   \n",
      "\n",
      "                                      submitting_lab date_submitted strain  \n",
      "0                                   Schwessinger Lab     2021-10-01  AY.39  \n",
      "1                                   Schwessinger Lab     2021-10-01  AY.39  \n",
      "2  NSW Health Pathology - Institute of Clinical P...     2021-09-28  AY.39  \n",
      "3                                   Schwessinger Lab     2021-10-01  AY.39  \n",
      "4                                   Schwessinger Lab     2021-10-01  AY.39  \n"
     ]
    }
   ],
   "source": [
    "# Read All tsv files\n",
    "import os\n",
    "\n",
    "# Define the directory containing the TSV files\n",
    "dir_path = 'raw_data'\n",
    "\n",
    "# Initialize an empty list to hold the DataFrames\n",
    "dataframes = []\n",
    "\n",
    "# Loop through all files in the directory\n",
    "for file_name in os.listdir(dir_path):\n",
    "    # Check if the file is a TSV file\n",
    "    if file_name.endswith('.tsv'):\n",
    "        # Read the TSV file into a DataFrame\n",
    "        file_path = os.path.join(dir_path, file_name)\n",
    "        df = pd.read_csv(file_path, sep='\\t')\n",
    "        # Append the DataFrame to the list\n",
    "        try:\n",
    "            dataframes.append(covid_tests_data_cleaning(df))\n",
    "        except Exception as e:\n",
    "            print(f\"Error in loading {file_name}\\n{e}\")\n",
    "\n",
    "data = pd.concat(dataframes, ignore_index=True)\n",
    "\n",
    "# Display the first few rows of the filtered dataframe\n",
    "print(data.head())"
   ]
  },
  {
   "cell_type": "code",
   "execution_count": 29,
   "metadata": {},
   "outputs": [
    {
     "name": "stdout",
     "output_type": "stream",
     "text": [
      "(233848, 14)\n"
     ]
    }
   ],
   "source": [
    "print(data.shape)"
   ]
  },
  {
   "cell_type": "code",
   "execution_count": 30,
   "metadata": {},
   "outputs": [
    {
     "name": "stdout",
     "output_type": "stream",
     "text": [
      "lineage                   0\n",
      "id                        0\n",
      "date                      0\n",
      "division                  7\n",
      "location             167273\n",
      "region_exposure           0\n",
      "country_exposure          0\n",
      "division_exposure         7\n",
      "age                  155677\n",
      "sex                  143008\n",
      "originating_lab         128\n",
      "submitting_lab            0\n",
      "date_submitted            0\n",
      "strain                    0\n",
      "dtype: int64\n"
     ]
    }
   ],
   "source": [
    "# Assuming 'data' is your DataFrame\n",
    "na_counts = data.isna().sum()\n",
    "\n",
    "print(na_counts)"
   ]
  },
  {
   "cell_type": "code",
   "execution_count": 31,
   "metadata": {},
   "outputs": [
    {
     "name": "stdout",
     "output_type": "stream",
     "text": [
      "'gisaid_epi_isl' is a unique key.\n"
     ]
    }
   ],
   "source": [
    "\n",
    "# Check if 'gisaid_epi_isl' is a unique key\n",
    "is_unique_key = data['id'].nunique() == len(data)\n",
    "\n",
    "if is_unique_key:\n",
    "    print(\"'gisaid_epi_isl' is a unique key.\")\n",
    "else:\n",
    "    print(\"'gisaid_epi_isl' is not a unique key.\")"
   ]
  },
  {
   "cell_type": "code",
   "execution_count": 32,
   "metadata": {},
   "outputs": [
    {
     "name": "stdout",
     "output_type": "stream",
     "text": [
      "lineage\n",
      "id\n",
      "date\n",
      "division\n",
      "location\n",
      "region_exposure\n",
      "country_exposure\n",
      "division_exposure\n",
      "age\n",
      "sex\n",
      "originating_lab\n",
      "submitting_lab\n",
      "date_submitted\n",
      "strain\n"
     ]
    }
   ],
   "source": [
    "\n",
    "# Display the first few rows of the dataframe\n",
    "print(*data.columns, sep='\\n')\n"
   ]
  },
  {
   "cell_type": "code",
   "execution_count": null,
   "metadata": {},
   "outputs": [],
   "source": []
  },
  {
   "cell_type": "code",
   "execution_count": null,
   "metadata": {},
   "outputs": [],
   "source": []
  }
 ],
 "metadata": {
  "kernelspec": {
   "display_name": "env",
   "language": "python",
   "name": "python3"
  },
  "language_info": {
   "codemirror_mode": {
    "name": "ipython",
    "version": 3
   },
   "file_extension": ".py",
   "mimetype": "text/x-python",
   "name": "python",
   "nbconvert_exporter": "python",
   "pygments_lexer": "ipython3",
   "version": "3.10.12"
  }
 },
 "nbformat": 4,
 "nbformat_minor": 2
}
