{
 "cells": [
  {
   "cell_type": "code",
   "execution_count": 1,
   "metadata": {},
   "outputs": [
    {
     "name": "stdout",
     "output_type": "stream",
     "text": [
      "                               strain            virus    gisaid_epi_isl  \\\n",
      "0  hCoV-19/Australia/QLD0x0140B0/2024  betacoronavirus  EPI_ISL_18979667   \n",
      "1  hCoV-19/Australia/QLD0x01418D/2024  betacoronavirus  EPI_ISL_19009760   \n",
      "2  hCoV-19/Australia/QLD0x014092/2024  betacoronavirus  EPI_ISL_18979706   \n",
      "3  hCoV-19/Australia/QLD0x01410E/2024  betacoronavirus  EPI_ISL_18979645   \n",
      "4    hCoV-19/Australia/TAS006878/2024  betacoronavirus  EPI_ISL_18967246   \n",
      "\n",
      "  genbank_accession        date   region    country    division location  \\\n",
      "0                 ?  2024-02-08  Oceania  Australia  Queensland      NaN   \n",
      "1                 ?  2024-03-12  Oceania  Australia  Queensland      NaN   \n",
      "2                 ?  2024-02-05  Oceania  Australia  Queensland      NaN   \n",
      "3                 ?  2024-02-05  Oceania  Australia  Queensland      NaN   \n",
      "4                 ?  2024-02-01  Oceania  Australia    Tasmania      NaN   \n",
      "\n",
      "  region_exposure  ... pangolin_lineage GISAID_clade  \\\n",
      "0         Oceania  ...          JN.1.35          GRA   \n",
      "1         Oceania  ...          JN.1.32          GRA   \n",
      "2         Oceania  ...           JN.1.4          GRA   \n",
      "3         Oceania  ...             JN.1          GRA   \n",
      "4         Oceania  ...           JN.1.5          GRA   \n",
      "\n",
      "                                     originating_lab  \\\n",
      "0  Public Health Virology, Forensic and Scientifi...   \n",
      "1  Public Health Virology, Forensic and Scientifi...   \n",
      "2                      Sullivan Nicolaides Pathology   \n",
      "3                   Forensic and Scientific Services   \n",
      "4                              Royal Hobart Hospital   \n",
      "\n",
      "                                      submitting_lab  \\\n",
      "0  Public Health Virology, Forensic and Scientifi...   \n",
      "1  Public Health Virology, Forensic and Scientifi...   \n",
      "2  Public Health Virology - Forensic and Scientif...   \n",
      "3  Public Health Virology - Forensic and Scientif...   \n",
      "4                              Royal Hobart Hospital   \n",
      "\n",
      "                                             authors                      url  \\\n",
      "0         Chenwei Wang on behalf of Q-PHIRE Genomics  https://www.gisaid.org/   \n",
      "1           Son Nguyen on behalf of Q-PHIRE Genomics  https://www.gisaid.org/   \n",
      "2         Chenwei Wang on behalf of Q-PHIRE Genomics  https://www.gisaid.org/   \n",
      "3         Chenwei Wang on behalf of Q-PHIRE Genomics  https://www.gisaid.org/   \n",
      "4  J Williamson, R Vanhaeften, J Maskell, C Atkin...  https://www.gisaid.org/   \n",
      "\n",
      "  title paper_url date_submitted purpose_of_sequencing  \n",
      "0     ?         ?     2024-03-13                     ?  \n",
      "1     ?         ?     2024-03-26                     ?  \n",
      "2     ?         ?     2024-03-13                     ?  \n",
      "3     ?         ?     2024-03-13                     ?  \n",
      "4     ?         ?     2024-03-08                     ?  \n",
      "\n",
      "[5 rows x 28 columns]\n"
     ]
    }
   ],
   "source": [
    "import pandas as pd\n",
    "\n",
    "# Replace 'file_path.tsv' with the actual path to your TSV file\n",
    "file_path = 'raw_data/1718053372032.metadata.tsv'\n",
    "\n",
    "# Read the TSV file\n",
    "rawdata = pd.read_csv(file_path, sep='\\t')\n",
    "\n",
    "# Display the first few rows of the dataframe\n",
    "print(rawdata.head())\n"
   ]
  },
  {
   "cell_type": "code",
   "execution_count": 3,
   "metadata": {},
   "outputs": [
    {
     "data": {
      "text/plain": [
       "array(['JN.1.35', 'JN.1.32', 'JN.1.4', 'JN.1', 'JN.1.5', 'KW.1',\n",
       "       'XBC.1.3', 'JN.2', 'JN.1.1', 'JN.1.32.1', 'XDQ', 'JN.1.20',\n",
       "       'JN.1.4.5', 'JN.1.11.1', 'JN.1.8', 'JN.1.22', 'JN.1.3',\n",
       "       'JN.1.28.1', 'KW.1.1', 'JN.1.29', 'JN.1.30.1', 'JN.1.18',\n",
       "       'JN.1.19', 'JN.1.4.7', 'JN.1.39', 'KW.1.2', 'JN.1.16', 'BA.2.86',\n",
       "       'JN.1.1.6', 'JN.18', 'JN.1.6', 'KV.1', 'JN.1.4.6', 'JN.14',\n",
       "       'JN.1.28', 'JN.1.51', 'JN.1.56', 'JN.1.11', 'JN.1.31', 'LE.2',\n",
       "       'KP.1', 'HK.3.2', 'HK.3', 'XDD', 'JG.3', 'KP.2', 'JN.1.16.2',\n",
       "       'XBB.1.16.6', 'JN.2.1', 'JD.1.1', 'XDK.1', 'LJ.1', 'FL.1.5.2',\n",
       "       'JN.1.48', 'JN.1.51.1', 'JN.1.47', 'XDK', 'JN.1.52', 'BA.2.86.1',\n",
       "       'JN.1.43', 'JN.1.17', 'JN.1.10', 'EG.5.1.8', 'HV.1', 'JE.1.1',\n",
       "       'HK.1', 'KP.4.1', 'JN.1.7', 'JN.1.8.1', 'KU.1', 'JN.1.37',\n",
       "       'JN.1.9', 'BA.2.86.3', 'KU.2', 'XDR', 'JN.1.36', 'JN.1.45',\n",
       "       'JN.1.4.3', 'JN.1.43.1', 'JN.1.23', 'KV.2', 'EG.5.1.1', 'JN.1.34',\n",
       "       'JN.1.4.1', 'JN.1.49', 'EG.5.1.6', 'KP.1.1', 'JN.1.16.1',\n",
       "       'JN.1.7.2', 'XBB.1.5.20', 'JN.1.55', 'JN.1.1.5', 'LA.1', 'KP.3',\n",
       "       'KZ.1.1.1', 'JN.1.48.1', 'JN.1.18.2', 'KP.1.1.1', 'KS.1',\n",
       "       'JN.1.42', 'JN.1.21', 'JN.1.8.3', 'JD.1.1.1', 'XDV.1', 'JN.1.15',\n",
       "       'JN.1.1.1', 'XDQ.1', 'JN.1.9.1', 'XCH.1', 'XDN', 'BA.2', 'FY.5',\n",
       "       'JN.1.55.1', 'KR.1', 'JN.1.41', 'JN.1.33', 'KP.2.3', 'KP.2.1',\n",
       "       'KZ.1.1', 'LA.2', 'JN.1.6.1', 'KP.1.2', 'JN.1.2', 'LB.1', 'KP.2.2',\n",
       "       'JN.1.13.1', 'JN.1.4.4', 'JQ.2.1', 'XDP.1', 'XDP', 'KP.4.2',\n",
       "       'JN.1.40', 'KP.3.2', 'KP.2.8', 'KP.3.1', 'LF.1', 'KP.3.3',\n",
       "       'JN.1.1.8', 'KP.2.9', 'KP.2.4', 'KP.2.12', 'KP.2.10', 'KW.1.1.1',\n",
       "       'JN.1.9.2', 'LG.1', 'JN.1.13', 'JN.1.30', 'KP.1.1.3', 'JN.1.44',\n",
       "       'JN.1.18.3'], dtype=object)"
      ]
     },
     "execution_count": 3,
     "metadata": {},
     "output_type": "execute_result"
    }
   ],
   "source": [
    "distinct_values = rawdata['pangolin_lineage'].unique()\n",
    "distinct_values"
   ]
  },
  {
   "cell_type": "code",
   "execution_count": 46,
   "metadata": {},
   "outputs": [
    {
     "name": "stdout",
     "output_type": "stream",
     "text": [
      "         id  lineage strain       date    division location region_exposure  \\\n",
      "0  18979667  JN.1.35   JN.1 2024-02-08  Queensland      NaN         Oceania   \n",
      "1  19009760  JN.1.32   JN.1 2024-03-12  Queensland      NaN         Oceania   \n",
      "2  18979706   JN.1.4   JN.1 2024-02-05  Queensland      NaN         Oceania   \n",
      "3  18979645     JN.1   JN.1 2024-02-05  Queensland      NaN         Oceania   \n",
      "4  18967246   JN.1.5   JN.1 2024-02-01    Tasmania      NaN         Oceania   \n",
      "\n",
      "  country_exposure division_exposure  age   sex  \\\n",
      "0        Australia        Queensland  NaN  <NA>   \n",
      "1        Australia        Queensland  NaN  <NA>   \n",
      "2        Australia        Queensland  NaN  <NA>   \n",
      "3        Australia        Queensland  NaN  <NA>   \n",
      "4        Australia          Tasmania  NaN  <NA>   \n",
      "\n",
      "                                     originating_lab  \\\n",
      "0  Public Health Virology, Forensic and Scientifi...   \n",
      "1  Public Health Virology, Forensic and Scientifi...   \n",
      "2                      Sullivan Nicolaides Pathology   \n",
      "3                   Forensic and Scientific Services   \n",
      "4                              Royal Hobart Hospital   \n",
      "\n",
      "                                      submitting_lab date_submitted  \n",
      "0  Public Health Virology, Forensic and Scientifi...     2024-03-13  \n",
      "1  Public Health Virology, Forensic and Scientifi...     2024-03-26  \n",
      "2  Public Health Virology - Forensic and Scientif...     2024-03-13  \n",
      "3  Public Health Virology - Forensic and Scientif...     2024-03-13  \n",
      "4                              Royal Hobart Hospital     2024-03-08  \n"
     ]
    }
   ],
   "source": [
    "data = rawdata\n",
    "\n",
    "def covid_tests_data_cleaning(data):\n",
    "    # Renaming columns\n",
    "    data.rename(columns={'pangolin_lineage': 'lineage'}, inplace=True)\n",
    "    data.rename(columns={'gisaid_epi_isl': 'id'}, inplace=True)\n",
    "    \n",
    "    # Filter\n",
    "    data = data[(data['region'] == 'Oceania') & (data['country'] == 'Australia')]\n",
    "    data = data[data['host'] == 'Human']\n",
    "    data[['age', 'sex']] = data[['age', 'sex']].replace('unknown', pd.NA)\n",
    "    data = data[data['lineage'] != 'Unassigned']\n",
    "\n",
    "    # Function to extract substring before the second '.'\n",
    "    def extract_lineage_prefix(s):\n",
    "        parts = s.split('.')\n",
    "        if len(parts) > 2:\n",
    "            return '.'.join(parts[:2])\n",
    "        return s\n",
    "\n",
    "    # Apply the function to the pangolin_lineage column\n",
    "    data['strain'] = data['lineage'].apply(extract_lineage_prefix)\n",
    "    \n",
    "    def extract_id(s):\n",
    "        return s.split('_')[-1]\n",
    "\n",
    "    # Apply the function to the gisaid_epi_isl column\n",
    "    data['id'] = data['id'].apply(extract_id)\n",
    "\n",
    "    # List of columns to keep\n",
    "    columns_to_keep = [\n",
    "        # virus\n",
    "        'id', 'lineage', 'strain', 'date',\n",
    "        # location\n",
    "        'division', 'location', \n",
    "        # exposure\n",
    "        'region_exposure', 'country_exposure', 'division_exposure',\n",
    "        # patient \n",
    "        'age', 'sex', \n",
    "        # submission\n",
    "        'originating_lab', 'submitting_lab', 'date_submitted'\n",
    "    ]\n",
    "\n",
    "    # Keep only the specified columns\n",
    "    data = data.loc[:, columns_to_keep]\n",
    "    \n",
    "    # Change data type\n",
    "    \n",
    "    # Convert to datetime using the specified formats\n",
    "    def parse_dates(date_series):\n",
    "        date_formats = [\"%d/%m/%Y\", \"%Y-%m-%d\"]\n",
    "        for fmt in date_formats:\n",
    "            parsed_dates = pd.to_datetime(date_series, format=fmt, errors='coerce')\n",
    "            if parsed_dates.notna().all():\n",
    "                return parsed_dates\n",
    "        return pd.to_datetime(date_series, errors='coerce') \n",
    "    \n",
    "    data['date'] = parse_dates(data['date'])\n",
    "    data = data.dropna(subset=['date'])\n",
    "    data['date_submitted'] = parse_dates(data['date_submitted'])\n",
    "    \n",
    "    data['age'] = pd.to_numeric(data['age'], errors='coerce')\n",
    "\n",
    "\n",
    "    return data\n",
    "\n",
    "data = covid_tests_data_cleaning(data)\n",
    "\n",
    "# Display the first few rows of the filtered dataframe\n",
    "print(data.head())"
   ]
  },
  {
   "cell_type": "code",
   "execution_count": 34,
   "metadata": {},
   "outputs": [
    {
     "data": {
      "text/plain": [
       "True"
      ]
     },
     "execution_count": 34,
     "metadata": {},
     "output_type": "execute_result"
    }
   ],
   "source": [
    "data['id'].is_unique"
   ]
  },
  {
   "cell_type": "code",
   "execution_count": 35,
   "metadata": {},
   "outputs": [
    {
     "data": {
      "text/plain": [
       "array(['JN.1', 'KW.1', 'XBC.1', 'JN.2', 'XDQ', 'BA.2', 'JN.18', 'KV.1',\n",
       "       'JN.14', 'LE.2', 'KP.1', 'HK.3', 'XDD', 'JG.3', 'KP.2', 'XBB.1',\n",
       "       'JD.1', 'XDK.1', 'LJ.1', 'FL.1', 'XDK', 'EG.5', 'HV.1', 'JE.1',\n",
       "       'HK.1', 'KP.4', 'KU.1', 'KU.2', 'XDR', 'KV.2', 'LA.1', 'KP.3',\n",
       "       'KZ.1', 'KS.1', 'XDV.1', 'XDQ.1', 'XCH.1', 'XDN', 'FY.5', 'KR.1',\n",
       "       'LA.2', 'LB.1', 'JQ.2', 'XDP.1', 'XDP', 'LF.1', 'LG.1'],\n",
       "      dtype=object)"
      ]
     },
     "execution_count": 35,
     "metadata": {},
     "output_type": "execute_result"
    }
   ],
   "source": [
    "data['strain'].unique()"
   ]
  },
  {
   "cell_type": "code",
   "execution_count": 47,
   "metadata": {},
   "outputs": [
    {
     "name": "stdout",
     "output_type": "stream",
     "text": [
      "        id    lineage strain       date                      division  \\\n",
      "0  4636733  AY.39.1.3  AY.39 2021-09-28  Australian Capital Territory   \n",
      "1  4636712  AY.39.1.2  AY.39 2021-09-27  Australian Capital Territory   \n",
      "2  4552404    AY.39.1  AY.39 2021-09-13               New South Wales   \n",
      "3  4636623  AY.39.1.2  AY.39 2021-09-23  Australian Capital Territory   \n",
      "4  4636635  AY.39.1.2  AY.39 2021-09-23  Australian Capital Territory   \n",
      "\n",
      "  location region_exposure country_exposure             division_exposure  \\\n",
      "0      NaN         Oceania        Australia  Australian Capital Territory   \n",
      "1      NaN         Oceania        Australia  Australian Capital Territory   \n",
      "2   Sydney         Oceania        Australia               New South Wales   \n",
      "3      NaN         Oceania        Australia  Australian Capital Territory   \n",
      "4      NaN         Oceania        Australia  Australian Capital Territory   \n",
      "\n",
      "   age   sex                                    originating_lab  \\\n",
      "0  NaN  <NA>                                      ACT Pathology   \n",
      "1  NaN  <NA>                                      ACT Pathology   \n",
      "2  NaN  <NA>  Australian Clinical Labs (formerly Healthscope...   \n",
      "3  NaN  <NA>                                      ACT Pathology   \n",
      "4  NaN  <NA>                                      ACT Pathology   \n",
      "\n",
      "                                      submitting_lab date_submitted  \n",
      "0                                   Schwessinger Lab     2021-10-01  \n",
      "1                                   Schwessinger Lab     2021-10-01  \n",
      "2  NSW Health Pathology - Institute of Clinical P...     2021-09-28  \n",
      "3                                   Schwessinger Lab     2021-10-01  \n",
      "4                                   Schwessinger Lab     2021-10-01  \n"
     ]
    }
   ],
   "source": [
    "# Read All tsv files\n",
    "import os\n",
    "\n",
    "# Define the directory containing the TSV files\n",
    "dir_path = 'raw_data'\n",
    "\n",
    "# Initialize an empty list to hold the DataFrames\n",
    "dataframes = []\n",
    "\n",
    "# Loop through all files in the directory\n",
    "for file_name in os.listdir(dir_path):\n",
    "    # Check if the file is a TSV file\n",
    "    if file_name.endswith('.tsv'):\n",
    "        # Read the TSV file into a DataFrame\n",
    "        file_path = os.path.join(dir_path, file_name)\n",
    "        df = pd.read_csv(file_path, sep='\\t')\n",
    "        # Append the DataFrame to the list\n",
    "        try:\n",
    "            dataframes.append(covid_tests_data_cleaning(df))\n",
    "        except Exception as e:\n",
    "            print(f\"Error in loading {file_name}\\n{e}\")\n",
    "\n",
    "data = pd.concat(dataframes, ignore_index=True)\n",
    "\n",
    "# Display the first few rows of the filtered dataframe\n",
    "print(data.head())"
   ]
  },
  {
   "cell_type": "code",
   "execution_count": 56,
   "metadata": {},
   "outputs": [
    {
     "data": {
      "text/plain": [
       "array(['AY.39', 'AY.5', 'B.1', 'AY.24', 'AY.23', 'AY.4', 'AY.35',\n",
       "       'AY.121', 'AY.38', 'AY.43', 'AY.99', 'AY.28', 'AY.126', 'AY.70',\n",
       "       'AY.29', 'AY.75', 'AY.122', 'AY.25', 'AY.44', 'AY.36', 'AY.108',\n",
       "       'AY.127', 'AY.95', 'Q.8', 'D.2', 'BA.5', 'BA.2', 'BA.4', 'BF.17',\n",
       "       'BF.1', 'BF.5', 'BE.1', 'BF.18', 'BF.38', 'BE.5', 'BE.4', 'BF.24',\n",
       "       'BF.28', 'BF.15', 'BF.10', 'BG.2', 'BF.3', 'BG.5', 'BE.3', 'BF.4',\n",
       "       'BF.36', 'BF.27', 'BA.3', 'BK.1', 'BF.23', 'XAS', 'BF.21', 'BE.2',\n",
       "       'XAN', 'BF.26', 'XAZ', 'BF.41', 'BF.7', 'XBF', 'BN.1', 'BR.2',\n",
       "       'CH.1', 'BQ.1', 'GP.1', 'XBF.8', 'XBF.5', 'CM.8', 'XBB.1', 'DG.1',\n",
       "       'XBF.6', 'XBF.2', 'XBC.1', 'XBF.3', 'CQ.2', 'BM.2', 'EJ.2', 'DN.3',\n",
       "       'BS.1', 'BA.1', 'BF.11', 'CL.1', 'BR.3', 'XBM', 'BM.1', 'CK.3',\n",
       "       'XBB.6', 'CJ.1', 'XBJ.1', 'BF.14', 'XBB.3', 'CM.3', 'XBB', 'DF.1',\n",
       "       'BL.1', 'CP.8', 'CP.1', 'CK.2', 'CM.4', 'XBB.2', 'CM.2', 'BL.2',\n",
       "       'BR.1', 'CR.1', 'XBD', 'BN.4', 'BY.1', 'CH.3', 'XBC.2', 'BE.7',\n",
       "       'CQ.1', 'BF.25', 'BM.4', 'BF.31', 'XBB.4', 'EE.1', 'CV.1', 'DN.2',\n",
       "       'CA.7', 'CH.2', 'BF.8', 'BF.13', 'CM.5', 'BR.5', 'BQ.2', 'EG.1',\n",
       "       'FL.4', 'FK.1', 'HH.2', 'FL.2', 'EG.2', 'GL.1', 'GQ.1', 'FL.1',\n",
       "       'FL.3', 'FL.12', 'FQ.1', 'FU.3', 'HW.1', 'GS.1', 'BH.1', 'BN.6',\n",
       "       'HH.1', 'FP.2', 'GY.5', 'FU.4', 'FY.2', 'GJ.1', 'XCC', 'FU.2',\n",
       "       'HU.2', 'FU.1', 'GF.1', 'FY.5', 'FV.1', 'FD.4', 'FL.15', 'FL.18',\n",
       "       'FL.23', 'EG.5', 'FY.3', 'FL.6', 'FT.2', 'FL.13', 'EU.1', 'FL.5',\n",
       "       'JK.1', 'GT.1', 'FY.1', 'DV.1', 'FP.3', 'FE.1', 'GR.1', 'XBL.2',\n",
       "       'A.1', 'B.31', 'B.6', 'A', 'A.23', 'AU.3', 'FU.5', 'GE.1', 'GJ.3',\n",
       "       'EG.4', 'DA.1', 'CB.1', 'BF.34', 'CA.4', 'DQ.1', 'BN.3', 'BF.16',\n",
       "       'CK.1', 'CP.6', 'DB.1', 'CM.12', 'CN.1', 'CM.11', 'BL.3', 'XBB.8',\n",
       "       'EW.2', 'CT.1', 'CD.1', 'CE.1', 'BV.2', 'BF.30', 'CM.10', 'EF.1',\n",
       "       'BE.9', 'BN.5', 'XL', 'AY.129', 'XAM', 'XM', 'B.61', 'B.40',\n",
       "       'AY.112', 'AY.125', 'AY.100', 'XN', 'XE', 'AY.33', 'AY.30',\n",
       "       'AY.26', 'AY.57', 'AY.118', 'AY.74', 'B.4', 'A.2', 'AY.46', 'AY.3',\n",
       "       'AY.16', 'AY.42', 'AY.91', 'AY.103', 'JN.1', 'KW.1', 'JN.2', 'XDQ',\n",
       "       'JN.18', 'KV.1', 'JN.14', 'LE.2', 'KP.1', 'HK.3', 'XDD', 'JG.3',\n",
       "       'KP.2', 'JD.1', 'XDK.1', 'LJ.1', 'XDK', 'HV.1', 'JE.1', 'HK.1',\n",
       "       'KP.4', 'KU.1', 'KU.2', 'XDR', 'KV.2', 'LA.1', 'KP.3', 'KZ.1',\n",
       "       'KS.1', 'XDV.1', 'XDQ.1', 'XCH.1', 'XDN', 'KR.1', 'LA.2', 'LB.1',\n",
       "       'JQ.2', 'XDP.1', 'XDP', 'LF.1', 'LG.1', 'D.3', 'B', 'A.25', 'B.29',\n",
       "       'B.33', 'B.37', 'B.39', 'C.35', 'XBL.1', 'GD.2', 'FL.10', 'FL.9',\n",
       "       'XBF.10', 'EA.1', 'GA.1', 'FL.8', 'GA.2', 'EP.1', 'FD.1', 'FL.21',\n",
       "       'FD.2', 'EM.1', 'FG.3', 'CA.3', 'EG.6', 'FL.26', 'DV.5', 'HM.1',\n",
       "       'XBL.3', 'GW.3', 'GA.6', 'XAY.1', 'GW.4', 'FP.4', 'GJ.4', 'EL.1',\n",
       "       'FL.22', 'DV.6', 'FL.33', 'DV.7', 'BE.8', 'FY.4', 'EG.3', 'FL.11',\n",
       "       'FR.1', 'FP.1', 'FL.25', 'GN.3', 'FL.19', 'EG.13', 'FL.14',\n",
       "       'FL.27', 'GY.6', 'FH.1', 'DN.1', 'FZ.1', 'FC.1', 'EG.14', 'XBL',\n",
       "       'AY.34', 'AL.1', 'B.3', 'C.36', 'B.5', 'B.35', 'P.2', 'C.2', 'W.1',\n",
       "       'A.19', 'B.58', 'A.21', 'R.1', 'AU.1', 'P.3', 'P.1', 'C.37',\n",
       "       'A.29', 'C.17', 'AY.120', 'B.55', 'A.27', 'AY.1', 'AY.37', 'AY.45',\n",
       "       'AZ.2', 'AY.62', 'AY.116', 'AY.82', 'AY.6', 'AY.8', 'AY.107',\n",
       "       'AY.85', 'BL.4', 'BT.2', 'BF.6', 'BP.1', 'DJ.1', 'BF.12', 'AY.79',\n",
       "       'AY.131', 'AY.104', 'BF.20', 'BE.12', 'BF.39', 'XAC', 'GK.2',\n",
       "       'JN.11', 'GW.5', 'HF.1', 'JF.1', 'GS.4', 'GK.1', 'JN.3', 'XCP',\n",
       "       'HK.6', 'EG.7', 'HK.2', 'EG.10', 'JG.1', 'JN.13', 'JN.10', 'FL.20',\n",
       "       'HK.11', 'HK.8', 'FL.24', 'JQ.1', 'JN.6', 'JN.4', 'JN.5', 'KY.1',\n",
       "       'CP.5', 'BE.10', 'XBB.9', 'BW.1', 'CM.7', 'EJ.1', 'BN.2', 'XBK',\n",
       "       'XBU', 'GP.2', 'DL.1', 'EW.1', 'XBF.1', 'EK.2', 'XBY', 'GP.3',\n",
       "       'FL.17', 'ER.1', 'XBK.1', 'FL.35', 'FW.3', 'AY.98', 'FG.2', 'HK.5',\n",
       "       'GY.1', 'HC.1', 'GZ.1', 'HZ.2', 'GY.7', 'GV.1', 'FS.1', 'XCF.1',\n",
       "       'FL.29', 'HR.1', 'FL.16', 'XCF', 'FL.31', 'HT.1', 'FY.6', 'HK.7',\n",
       "       'FL.34', 'GM.3', 'GM.2', 'FL.7', 'GJ.5', 'GN.1', 'JG.2', 'B.28',\n",
       "       'BG.3', 'XBB.7', 'DZ.1', 'DU.1', 'DV.2', 'XBQ', 'DV.4', 'XAY.3',\n",
       "       'FM.1', 'DS.2', 'DY.2', 'EF.2', 'EH.1', 'EY.1', 'EN.1', 'EC.1',\n",
       "       'B.52', 'B.11', 'GG.1', 'GY.3', 'XCD', 'GM.1', 'FL.32', 'JD.2',\n",
       "       'DY.4', 'EF.3', 'EE.2', 'BU.1', 'EE.3', 'CZ.2', 'DY.3', 'ED.1',\n",
       "       'XBF.4', 'FD.3', 'HK.4', 'FT.3', 'GY.8', 'GS.3', 'GK.3', 'HN.1',\n",
       "       'HZ.1', 'JJ.1', 'HQ.1', 'GA.4', 'HG.1', 'FL.36', 'XCL', 'XCM',\n",
       "       'HC.4', 'XCH', 'GW.2', 'XBF.7', 'BE.13', 'AY.9', 'AY.119', 'AY.7',\n",
       "       'AY.110', 'AY.133', 'AY.65', 'B.59', 'A.5', 'B.53', 'A.3', 'B.26',\n",
       "       'DB.2', 'BF.2', 'XBE', 'BF.32', 'CD.2', 'BE.6', 'CA.2', 'CM.1',\n",
       "       'BJ.1', 'XBG', 'DD.1', 'XBB.5', 'XBH', 'AY.76', 'AY.106', 'AY.59',\n",
       "       'BF.22', 'BF.40', 'BM.5', 'BM.3', 'CM.6', 'XBJ', 'CA.6', 'XAY.2',\n",
       "       'BU.3', 'BR.4', 'BV.1', 'EB.1', 'XU', 'AY.111', 'AY.92', 'AY.124'],\n",
       "      dtype=object)"
      ]
     },
     "execution_count": 56,
     "metadata": {},
     "output_type": "execute_result"
    }
   ],
   "source": [
    "(data['strain'].unique())"
   ]
  },
  {
   "cell_type": "code",
   "execution_count": 50,
   "metadata": {},
   "outputs": [
    {
     "name": "stdout",
     "output_type": "stream",
     "text": [
      "(232412, 14)\n"
     ]
    }
   ],
   "source": [
    "print(data.shape)"
   ]
  },
  {
   "cell_type": "code",
   "execution_count": 38,
   "metadata": {},
   "outputs": [
    {
     "name": "stdout",
     "output_type": "stream",
     "text": [
      "id                        0\n",
      "lineage                   0\n",
      "strain                    0\n",
      "date                      0\n",
      "division                  7\n",
      "location             167273\n",
      "region_exposure           0\n",
      "country_exposure          0\n",
      "division_exposure         7\n",
      "age                  155677\n",
      "sex                  143008\n",
      "originating_lab         128\n",
      "submitting_lab            0\n",
      "date_submitted            0\n",
      "dtype: int64\n"
     ]
    }
   ],
   "source": [
    "# Assuming 'data' is your DataFrame\n",
    "na_counts = data.isna().sum()\n",
    "\n",
    "print(na_counts)"
   ]
  },
  {
   "cell_type": "code",
   "execution_count": 39,
   "metadata": {},
   "outputs": [
    {
     "name": "stdout",
     "output_type": "stream",
     "text": [
      "'gisaid_epi_isl' is a unique key.\n"
     ]
    }
   ],
   "source": [
    "\n",
    "# Check if 'gisaid_epi_isl' is a unique key\n",
    "is_unique_key = data['id'].nunique() == len(data)\n",
    "\n",
    "if is_unique_key:\n",
    "    print(\"'gisaid_epi_isl' is a unique key.\")\n",
    "else:\n",
    "    print(\"'gisaid_epi_isl' is not a unique key.\")"
   ]
  },
  {
   "cell_type": "code",
   "execution_count": 40,
   "metadata": {},
   "outputs": [
    {
     "name": "stdout",
     "output_type": "stream",
     "text": [
      "id\n",
      "lineage\n",
      "strain\n",
      "date\n",
      "division\n",
      "location\n",
      "region_exposure\n",
      "country_exposure\n",
      "division_exposure\n",
      "age\n",
      "sex\n",
      "originating_lab\n",
      "submitting_lab\n",
      "date_submitted\n"
     ]
    }
   ],
   "source": [
    "\n",
    "# Display the first few rows of the dataframe\n",
    "print(*data.columns, sep='\\n')\n"
   ]
  },
  {
   "cell_type": "code",
   "execution_count": null,
   "metadata": {},
   "outputs": [],
   "source": []
  },
  {
   "cell_type": "code",
   "execution_count": null,
   "metadata": {},
   "outputs": [],
   "source": []
  }
 ],
 "metadata": {
  "kernelspec": {
   "display_name": "env",
   "language": "python",
   "name": "python3"
  },
  "language_info": {
   "codemirror_mode": {
    "name": "ipython",
    "version": 3
   },
   "file_extension": ".py",
   "mimetype": "text/x-python",
   "name": "python",
   "nbconvert_exporter": "python",
   "pygments_lexer": "ipython3",
   "version": "3.10.12"
  }
 },
 "nbformat": 4,
 "nbformat_minor": 2
}
