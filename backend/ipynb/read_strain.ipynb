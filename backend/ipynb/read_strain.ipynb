{
 "cells": [
  {
   "cell_type": "code",
   "execution_count": 24,
   "metadata": {},
   "outputs": [
    {
     "data": {
      "text/plain": [
       "Index(['id', 'lineage', 'strain', 'date', 'division', 'location',\n",
       "       'region_exposure', 'country_exposure', 'division_exposure', 'age',\n",
       "       'sex', 'originating_lab', 'submitting_lab', 'date_submitted'],\n",
       "      dtype='object')"
      ]
     },
     "execution_count": 24,
     "metadata": {},
     "output_type": "execute_result"
    }
   ],
   "source": [
    "import pandas as pd\n",
    "df = pd.read_parquet('raw_data/covid_data.parquet')\n",
    "\n",
    "strain_df = pd.read_csv('raw_data/lineage_label.csv')\n",
    "\n",
    "df.columns"
   ]
  },
  {
   "cell_type": "code",
   "execution_count": 37,
   "metadata": {},
   "outputs": [
    {
     "data": {
      "text/plain": [
       "0        AY.39.1.3\n",
       "1        AY.39.1.2\n",
       "2          AY.39.1\n",
       "3             AY.5\n",
       "4        B.1.617.2\n",
       "           ...    \n",
       "1738       AY.43.4\n",
       "1739        AY.111\n",
       "1740         AY.92\n",
       "1741    AY.124.1.1\n",
       "1742       AY.98.1\n",
       "Length: 1743, dtype: object"
      ]
     },
     "execution_count": 37,
     "metadata": {},
     "output_type": "execute_result"
    }
   ],
   "source": [
    "uni_strain = pd.Series(df['lineage'].unique())\n",
    "uni_strain"
   ]
  },
  {
   "cell_type": "code",
   "execution_count": 43,
   "metadata": {},
   "outputs": [
    {
     "data": {
      "text/html": [
       "<div>\n",
       "<style scoped>\n",
       "    .dataframe tbody tr th:only-of-type {\n",
       "        vertical-align: middle;\n",
       "    }\n",
       "\n",
       "    .dataframe tbody tr th {\n",
       "        vertical-align: top;\n",
       "    }\n",
       "\n",
       "    .dataframe thead th {\n",
       "        text-align: right;\n",
       "    }\n",
       "</style>\n",
       "<table border=\"1\" class=\"dataframe\">\n",
       "  <thead>\n",
       "    <tr style=\"text-align: right;\">\n",
       "      <th></th>\n",
       "      <th>lineage</th>\n",
       "      <th>label</th>\n",
       "    </tr>\n",
       "  </thead>\n",
       "  <tbody>\n",
       "    <tr>\n",
       "      <th>0</th>\n",
       "      <td>AY.10</td>\n",
       "      <td>Delta</td>\n",
       "    </tr>\n",
       "    <tr>\n",
       "      <th>1</th>\n",
       "      <td>AY.100</td>\n",
       "      <td>Delta</td>\n",
       "    </tr>\n",
       "    <tr>\n",
       "      <th>2</th>\n",
       "      <td>AY.101</td>\n",
       "      <td>Delta</td>\n",
       "    </tr>\n",
       "    <tr>\n",
       "      <th>3</th>\n",
       "      <td>AY.102</td>\n",
       "      <td>Delta</td>\n",
       "    </tr>\n",
       "    <tr>\n",
       "      <th>4</th>\n",
       "      <td>AY.103</td>\n",
       "      <td>Delta</td>\n",
       "    </tr>\n",
       "    <tr>\n",
       "      <th>...</th>\n",
       "      <td>...</td>\n",
       "      <td>...</td>\n",
       "    </tr>\n",
       "    <tr>\n",
       "      <th>1708</th>\n",
       "      <td>BE.1</td>\n",
       "      <td>Omicron</td>\n",
       "    </tr>\n",
       "    <tr>\n",
       "      <th>1709</th>\n",
       "      <td>EG.5</td>\n",
       "      <td>Omicron</td>\n",
       "    </tr>\n",
       "    <tr>\n",
       "      <th>1710</th>\n",
       "      <td>HK.3</td>\n",
       "      <td>Omicron</td>\n",
       "    </tr>\n",
       "    <tr>\n",
       "      <th>1711</th>\n",
       "      <td>XBB.2</td>\n",
       "      <td>Omicron</td>\n",
       "    </tr>\n",
       "    <tr>\n",
       "      <th>1712</th>\n",
       "      <td>HV.1</td>\n",
       "      <td>Omicron</td>\n",
       "    </tr>\n",
       "  </tbody>\n",
       "</table>\n",
       "<p>1713 rows × 2 columns</p>\n",
       "</div>"
      ],
      "text/plain": [
       "     lineage    label\n",
       "0      AY.10    Delta\n",
       "1     AY.100    Delta\n",
       "2     AY.101    Delta\n",
       "3     AY.102    Delta\n",
       "4     AY.103    Delta\n",
       "...      ...      ...\n",
       "1708    BE.1  Omicron\n",
       "1709    EG.5  Omicron\n",
       "1710    HK.3  Omicron\n",
       "1711   XBB.2  Omicron\n",
       "1712    HV.1  Omicron\n",
       "\n",
       "[1713 rows x 2 columns]"
      ]
     },
     "execution_count": 43,
     "metadata": {},
     "output_type": "execute_result"
    }
   ],
   "source": [
    "strain_df"
   ]
  },
  {
   "cell_type": "code",
   "execution_count": 48,
   "metadata": {},
   "outputs": [
    {
     "name": "stdout",
     "output_type": "stream",
     "text": [
      "Matching DataFrame:\n",
      "\n",
      "         lineage  label\n",
      "0      AY.39.1.3  Delta\n",
      "1      AY.39.1.2  Delta\n",
      "2        AY.39.1  Delta\n",
      "3           AY.5  Delta\n",
      "4      B.1.617.2  Delta\n",
      "...          ...    ...\n",
      "1738     AY.43.4  Delta\n",
      "1739      AY.111  Delta\n",
      "1740       AY.92  Delta\n",
      "1741  AY.124.1.1  Delta\n",
      "1742     AY.98.1  Delta\n",
      "\n",
      "[1320 rows x 2 columns]\n"
     ]
    }
   ],
   "source": [
    "\n",
    "# Function to find the matching prefix and label\n",
    "def find_matching_prefix_and_label(uni_strain_value, lineage_series, label_series):\n",
    "    for lineage, label in zip(lineage_series, label_series):\n",
    "        if uni_strain_value.startswith(lineage):\n",
    "            return lineage, label\n",
    "    return None, None\n",
    "\n",
    "# Apply the function to find matches\n",
    "matches = uni_strain.apply(lambda x: find_matching_prefix_and_label(x, strain_df['lineage'], strain_df['label']))\n",
    "\n",
    "# Split the matches into two separate columns\n",
    "matching_prefixes, matching_labels = zip(*matches)\n",
    "\n",
    "# Create a DataFrame with the matching ones\n",
    "match_df = pd.DataFrame({\n",
    "    'lineage': uni_strain[matches.apply(lambda x: x[0] is not None)],\n",
    "    'label': [label for label in matching_labels if label is not None]\n",
    "})\n",
    "\n",
    "\n",
    "# Display the DataFrames\n",
    "print(\"Matching DataFrame:\\n\")\n",
    "print(match_df)\n",
    "match_df.to_csv(\"raw_data/full_lineage_label.csv\", index=False)"
   ]
  },
  {
   "cell_type": "code",
   "execution_count": 11,
   "metadata": {},
   "outputs": [
    {
     "name": "stdout",
     "output_type": "stream",
     "text": [
      "Number of strings in uni_strain with a matching prefix in strain_df['lineage']: 1512 out of 1743\n"
     ]
    }
   ],
   "source": [
    "# Function to check if any lineage starts with a prefix from uni_strain\n",
    "def has_matching_prefix(lineage, prefixes):\n",
    "    return any(lineage.startswith(prefix) for prefix in prefixes)\n",
    "\n",
    "# Apply the function to check for matching prefixes\n",
    "matching_prefixes = strain_df['lineage'].apply(lambda x: has_matching_prefix(x, uni_strain))\n",
    "\n",
    "# Count the number of matching prefixes\n",
    "num_matching_prefixes = matching_prefixes.sum()\n",
    "\n",
    "print(f\"Number of strings in uni_strain with a matching prefix in strain_df['lineage']: {num_matching_prefixes} out of {len(uni_strain)}\")\n"
   ]
  }
 ],
 "metadata": {
  "kernelspec": {
   "display_name": "env",
   "language": "python",
   "name": "python3"
  },
  "language_info": {
   "codemirror_mode": {
    "name": "ipython",
    "version": 3
   },
   "file_extension": ".py",
   "mimetype": "text/x-python",
   "name": "python",
   "nbconvert_exporter": "python",
   "pygments_lexer": "ipython3",
   "version": "3.10.12"
  }
 },
 "nbformat": 4,
 "nbformat_minor": 2
}
