{
 "cells": [
  {
   "cell_type": "code",
   "execution_count": 11,
   "metadata": {},
   "outputs": [
    {
     "name": "stdout",
     "output_type": "stream",
     "text": [
      "          Date  Count\n",
      "0   2020-01-05    0.0\n",
      "1   2020-01-12    0.0\n",
      "2   2020-01-19    0.0\n",
      "3   2020-01-26    0.0\n",
      "4   2020-02-02    0.0\n",
      "..         ...    ...\n",
      "226 2024-05-05    6.0\n",
      "227 2024-05-12    7.0\n",
      "228 2024-05-19    1.0\n",
      "229 2024-05-26    6.0\n",
      "230 2024-06-02    0.0\n",
      "\n",
      "[231 rows x 2 columns]\n"
     ]
    },
    {
     "name": "stderr",
     "output_type": "stream",
     "text": [
      "/tmp/ipykernel_289360/2504872741.py:27: FutureWarning: Downcasting object dtype arrays on .fillna, .ffill, .bfill is deprecated and will change in a future version. Call result.infer_objects(copy=False) instead. To opt-in to the future behavior, set `pd.set_option('future.no_silent_downcasting', True)`\n",
      "  australian_data = australian_data.fillna(0)\n"
     ]
    }
   ],
   "source": [
    "import pandas as pd\n",
    "\n",
    "# Path to your TSV file\n",
    "file_path = 'gisaid_variants_statistics_2024_06_08_2057.xlsx'\n",
    "\n",
    "# Read the TSV file into a DataFrame\n",
    "df = pd.read_excel(file_path, sheet_name='VOC Omicron')\n",
    "excel_data = pd.read_excel(file_path, sheet_name='VOC Omicron')\n",
    "\n",
    "# Rename the first column to 'Country'\n",
    "excel_data.rename(columns={'Unnamed: 0': 'Country'}, inplace=True)\n",
    "\n",
    "# Filter for Australian data\n",
    "australian_data = excel_data[excel_data['Country'] == 'Australia']\n",
    "\n",
    "australian_data = australian_data.transpose()\n",
    "\n",
    "australian_data = australian_data.iloc[3:]\n",
    "\n",
    "australian_data.reset_index(inplace=True)\n",
    "australian_data.rename(columns={australian_data.columns[0]: 'Date'}, inplace=True)\n",
    "australian_data.rename(columns={australian_data.columns[1]: 'Count'}, inplace=True)\n",
    "\n",
    "australian_data['Date'] = pd.to_datetime(australian_data['Date'])\n",
    "\n",
    "\n",
    "australian_data = australian_data.fillna(0)\n",
    "\n",
    "# Display the filtered Australian data\n",
    "print(australian_data)\n"
   ]
  },
  {
   "cell_type": "code",
   "execution_count": null,
   "metadata": {},
   "outputs": [],
   "source": []
  }
 ],
 "metadata": {
  "kernelspec": {
   "display_name": "env",
   "language": "python",
   "name": "python3"
  },
  "language_info": {
   "codemirror_mode": {
    "name": "ipython",
    "version": 3
   },
   "file_extension": ".py",
   "mimetype": "text/x-python",
   "name": "python",
   "nbconvert_exporter": "python",
   "pygments_lexer": "ipython3",
   "version": "3.10.12"
  }
 },
 "nbformat": 4,
 "nbformat_minor": 2
}
