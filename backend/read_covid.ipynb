{
 "cells": [
  {
   "cell_type": "code",
   "execution_count": 8,
   "metadata": {},
   "outputs": [
    {
     "data": {
      "text/plain": [
       "0          1\n",
       "1          1\n",
       "2          2\n",
       "3          1\n",
       "4          1\n",
       "          ..\n",
       "231602    29\n",
       "231603    29\n",
       "231604    29\n",
       "231605    29\n",
       "231606    29\n",
       "Name: originating_lab, Length: 231607, dtype: int64"
      ]
     },
     "execution_count": 8,
     "metadata": {},
     "output_type": "execute_result"
    }
   ],
   "source": [
    "import pandas as pd\n",
    "df = pd.read_parquet('raw_data/covid_data.parquet')# Cast 'originating_lab' from float to int\n",
    "df['originating_lab'] = df['originating_lab'].astype(int)\n",
    "\n",
    "\n",
    "df.to_parquet('raw_data/covid_data.parquet')\n",
    "df['originating_lab']\n"
   ]
  }
 ],
 "metadata": {
  "kernelspec": {
   "display_name": "env",
   "language": "python",
   "name": "python3"
  },
  "language_info": {
   "codemirror_mode": {
    "name": "ipython",
    "version": 3
   },
   "file_extension": ".py",
   "mimetype": "text/x-python",
   "name": "python",
   "nbconvert_exporter": "python",
   "pygments_lexer": "ipython3",
   "version": "3.10.12"
  }
 },
 "nbformat": 4,
 "nbformat_minor": 2
}
